{
  "nbformat": 4,
  "nbformat_minor": 0,
  "metadata": {
    "colab": {
      "provenance": []
    },
    "kernelspec": {
      "name": "python3",
      "display_name": "Python 3"
    },
    "language_info": {
      "name": "python"
    }
  },
  "cells": [
    {
      "cell_type": "code",
      "execution_count": 1,
      "metadata": {
        "colab": {
          "base_uri": "https://localhost:8080/",
          "height": 35
        },
        "id": "dL5A-Rw8INFU",
        "outputId": "afef50f2-09c9-4a8c-83f2-5becca0d2b17"
      },
      "outputs": [
        {
          "output_type": "stream",
          "name": "stdout",
          "text": [
            "Mounted at /content/drive\n"
          ]
        }
      ],
      "source": [
        "import ee\n",
        "import geemap.core as geemap\n",
        "\n",
        "from google.colab import drive\n",
        "\n",
        "\n",
        "import numpy as np\n",
        "import pandas as pd\n",
        "\n",
        "from scipy.interpolate import griddata\n",
        "from sklearn.preprocessing import StandardScaler\n",
        "from sklearn.preprocessing import OneHotEncoder\n",
        "\n",
        "import requests\n",
        "import math\n",
        "import io\n",
        "import sys\n",
        "\n",
        "\n",
        "# Mount Google Drive\n",
        "drive.mount('/content/drive')\n",
        "\n",
        "\n",
        "# File path to your JSON file in Google Drive\n",
        "private_key = '/content/drive/My Drive/Thesis_Coding/ee-thesis-project-5752d6e0c694.json'\n",
        "\n",
        "# Authenticating Earth Engine\n",
        "service_account = 'mailto:notebook@ee-thesis-project.iam.gserviceaccount.com'\n",
        "credentials = ee.ServiceAccountCredentials(service_account, private_key)\n",
        "ee.Initialize(credentials)"
      ]
    },
    {
      "cell_type": "code",
      "source": [
        "sys.setrecursionlimit(5000)"
      ],
      "metadata": {
        "colab": {
          "base_uri": "https://localhost:8080/",
          "height": 17
        },
        "id": "4RnPtPDn7k-B",
        "outputId": "cbfe19cb-fb08-47d5-b6b0-d8e3d5c29993"
      },
      "execution_count": 2,
      "outputs": [
        {
          "output_type": "display_data",
          "data": {
            "text/plain": [
              "<IPython.core.display.HTML object>"
            ],
            "text/html": [
              "\n",
              "            <style>\n",
              "                .geemap-dark {\n",
              "                    --jp-widgets-color: white;\n",
              "                    --jp-widgets-label-color: white;\n",
              "                    --jp-ui-font-color1: white;\n",
              "                    --jp-layout-color2: #454545;\n",
              "                    background-color: #383838;\n",
              "                }\n",
              "                    \n",
              "                .geemap-dark .jupyter-button {\n",
              "                    --jp-layout-color3: #383838;\n",
              "                }\n",
              "                \n",
              "                .geemap-colab {\n",
              "                    background-color: var(--colab-primary-surface-color, white);\n",
              "                }\n",
              "                    \n",
              "                .geemap-colab .jupyter-button {\n",
              "                    --jp-layout-color3: var(--colab-primary-surface-color, white);\n",
              "                }\n",
              "            </style>\n",
              "            "
            ]
          },
          "metadata": {}
        }
      ]
    },
    {
      "cell_type": "code",
      "source": [
        "demRaw = ee.Image(\"USGS/SRTMGL1_003\")#ee.ImageCollection('JAXA/ALOS/AW3D30/V3_2').mean()\n",
        "dsmRaw = ee.ImageCollection('JAXA/ALOS/AW3D30/V3_2')\n",
        "landformsRaw = ee.Image('CSP/ERGo/1_0/Global/SRTM_landforms')\n",
        "hydroRaw = ee.Image('MERIT/Hydro/v1_0_1')\n",
        "gsw = ee.Image('JRC/GSW1_3/GlobalSurfaceWater')\n",
        "climRaw = ee.Image('WORLDCLIM/V1/BIO')\n",
        "vegRaw = ee.ImageCollection('MODIS/006/MOD44B').mean()\n",
        "# biomassRaw = ee.ImageCollection('LARSE/GEDI/GEDI04_A_002_MONTHLY').mean()\n",
        "bedrockRaw = ee.Image(\"ISDASOIL/Africa/v1/bedrock_depth\")\n",
        "densityRaw = ee.Image(\"ISDASOIL/Africa/v1/bulk_density\")\n",
        "carbonRaw = ee.Image(\"ISDASOIL/Africa/v1/carbon_total\")\n",
        "fccRaw = ee.Image(\"ISDASOIL/Africa/v1/fcc\")\n",
        "phRaw = ee.Image(\"ISDASOIL/Africa/v1/ph\")\n",
        "clayRaw = ee.Image(\"ISDASOIL/Africa/v1/clay_content\")\n",
        "sandRaw = ee.Image(\"ISDASOIL/Africa/v1/sand_content\")\n",
        "siltRaw = ee.Image(\"ISDASOIL/Africa/v1/silt_content\")"
      ],
      "metadata": {
        "colab": {
          "base_uri": "https://localhost:8080/",
          "height": 17
        },
        "id": "W9oAowJuiagR",
        "outputId": "a9da4e46-aa37-4568-9528-65690d8e569f"
      },
      "execution_count": 3,
      "outputs": [
        {
          "output_type": "display_data",
          "data": {
            "text/plain": [
              "<IPython.core.display.HTML object>"
            ],
            "text/html": [
              "\n",
              "            <style>\n",
              "                .geemap-dark {\n",
              "                    --jp-widgets-color: white;\n",
              "                    --jp-widgets-label-color: white;\n",
              "                    --jp-ui-font-color1: white;\n",
              "                    --jp-layout-color2: #454545;\n",
              "                    background-color: #383838;\n",
              "                }\n",
              "                    \n",
              "                .geemap-dark .jupyter-button {\n",
              "                    --jp-layout-color3: #383838;\n",
              "                }\n",
              "                \n",
              "                .geemap-colab {\n",
              "                    background-color: var(--colab-primary-surface-color, white);\n",
              "                }\n",
              "                    \n",
              "                .geemap-colab .jupyter-button {\n",
              "                    --jp-layout-color3: var(--colab-primary-surface-color, white);\n",
              "                }\n",
              "            </style>\n",
              "            "
            ]
          },
          "metadata": {}
        }
      ]
    },
    {
      "cell_type": "code",
      "source": [
        "def get_rectangle_bounds(lon, lat, distance):\n",
        "  \"\"\"\n",
        "  This function takes in longitude, latitude, and a distance in meters, and returns the bounds of a rectangle centered at the given point, with sides of length equal to the distance, suitable for ee.Geometry.Rectangle.\n",
        "\n",
        "  Args:\n",
        "    lon: The longitude of the center point.\n",
        "    lat: The latitude of the center point.\n",
        "    distance: The distance in meters from the center point to each edge of the rectangle.\n",
        "\n",
        "  Returns:\n",
        "    A list of four floats representing the bounds of the rectangle: [xMin, yMin, xMax, yMax].\n",
        "  \"\"\"\n",
        "\n",
        "  # Convert the distance to degrees\n",
        "  distance_deg = distance / 111132  # Assuming Earth is a sphere with radius 6371 km\n",
        "\n",
        "  # Calculate the offsets in longitude and latitude\n",
        "  lon_offset = distance_deg * math.cos(math.radians(lat))\n",
        "  lat_offset = distance_deg\n",
        "\n",
        "  # Calculate rectangle bounds\n",
        "  x_min = lon - lon_offset\n",
        "  y_min = lat - lat_offset\n",
        "  x_max = lon + lon_offset\n",
        "  y_max = lat + lat_offset\n",
        "\n",
        "  return [x_min, y_min, x_max, y_max]"
      ],
      "metadata": {
        "colab": {
          "base_uri": "https://localhost:8080/",
          "height": 17
        },
        "id": "h11X2PKCGBLa",
        "outputId": "c302a071-95b3-43cb-debf-0b9b0b435a35"
      },
      "execution_count": 4,
      "outputs": [
        {
          "output_type": "display_data",
          "data": {
            "text/plain": [
              "<IPython.core.display.HTML object>"
            ],
            "text/html": [
              "\n",
              "            <style>\n",
              "                .geemap-dark {\n",
              "                    --jp-widgets-color: white;\n",
              "                    --jp-widgets-label-color: white;\n",
              "                    --jp-ui-font-color1: white;\n",
              "                    --jp-layout-color2: #454545;\n",
              "                    background-color: #383838;\n",
              "                }\n",
              "                    \n",
              "                .geemap-dark .jupyter-button {\n",
              "                    --jp-layout-color3: #383838;\n",
              "                }\n",
              "                \n",
              "                .geemap-colab {\n",
              "                    background-color: var(--colab-primary-surface-color, white);\n",
              "                }\n",
              "                    \n",
              "                .geemap-colab .jupyter-button {\n",
              "                    --jp-layout-color3: var(--colab-primary-surface-color, white);\n",
              "                }\n",
              "            </style>\n",
              "            "
            ]
          },
          "metadata": {}
        }
      ]
    },
    {
      "cell_type": "code",
      "source": [
        "def get_site_data(lat, lon, bufferDistance):\n",
        "  # buffer = ee.Geometry.Point(lon, lat).buffer(bufferDistance)\n",
        "  buffer = ee.Geometry.Rectangle(get_rectangle_bounds(lon,lat,bufferDistance))\n",
        "\n",
        "  dem = demRaw.select('elevation')\n",
        "  filteredDem = dem.clip(buffer)\n",
        "\n",
        "  proj = dsmRaw.first().select(0).projection()\n",
        "  slope = ee.Terrain.slope(dsmRaw.mosaic().setDefaultProjection(proj)).clip(buffer)\n",
        "\n",
        "  landforms = landformsRaw.select('constant')\n",
        "  filteredLandforms = landforms.clip(buffer)\n",
        "\n",
        "  hydro = hydroRaw.select('dir')\n",
        "  filteredHydro = hydro.clip(buffer)\n",
        "\n",
        "  point = ee.Geometry.Point([lon, lat])\n",
        "  water_mask = gsw.gt(0).selfMask()\n",
        "  gsw_distance = water_mask.mask().fastDistanceTransform(neighborhood=1024).multiply(ee.Image.pixelArea()).sqrt().rename('gsw_distance')\n",
        "  gswDistance = gsw_distance.reduceRegion(ee.Reducer.first(),\n",
        "                                                    point, water_mask.projection().nominalScale()).getNumber('gsw_distance').getInfo()\n",
        "\n",
        "  clim = climRaw.clip(buffer)\n",
        "  bio01 = clim.select('bio01')\n",
        "  bio03 = clim.select('bio03')\n",
        "  bio12 = clim.select('bio12')\n",
        "\n",
        "  veg = vegRaw.clip(buffer)\n",
        "  treeCover = veg.select('Percent_Tree_Cover').reduceRegion(ee.Reducer.mean()).getInfo()\n",
        "  treeCover = treeCover[list(treeCover)[0]]\n",
        "  nonTree = veg.select('Percent_NonTree_Vegetation').reduceRegion(ee.Reducer.mean()).getInfo()\n",
        "  nonTree = nonTree[list(nonTree)[0]]\n",
        "\n",
        "  # biomass = biomassRaw.clip(buffer)\n",
        "  # agbd = biomass.select('agbd').reduceRegion(ee.Reducer.mean())\n",
        "\n",
        "  bedrock = bedrockRaw.clip(buffer).select('mean_0_200')\n",
        "\n",
        "  density = densityRaw.clip(buffer).select('mean_20_50')\n",
        "\n",
        "  carbon = carbonRaw.clip(buffer).select('mean_20_50')\n",
        "\n",
        "  fcc = fccRaw.clip(buffer).select('fcc')\n",
        "\n",
        "  ph = phRaw.clip(buffer).select('mean_20_50')\n",
        "\n",
        "  clay = clayRaw.clip(buffer).select('mean_20_50')\n",
        "\n",
        "  sand = sandRaw.clip(buffer).select('mean_20_50')\n",
        "\n",
        "  silt = siltRaw.clip(buffer).select('mean_20_50')\n",
        "\n",
        "  return {'coor': [lat, lon], 'buffer': buffer, 'dem': filteredDem, 'slope': slope, 'landforms': filteredLandforms,\n",
        "          'hydro': filteredHydro, 'gswDistance': gswDistance, 'bio01': bio01, 'bio03': bio03, 'bio12': bio12,\n",
        "          'treeCover': treeCover, 'nonTree': nonTree, #'agbd': agbd,\n",
        "          'bedrock': bedrock, 'density': density, 'carbon': carbon,\n",
        "          'fcc': fcc, 'ph': ph, 'clay': clay, 'sand': sand, 'silt': silt}"
      ],
      "metadata": {
        "colab": {
          "base_uri": "https://localhost:8080/",
          "height": 17
        },
        "id": "vP5gEgf4C7eQ",
        "outputId": "c02ae240-6b17-49b5-9e72-ce0a8472433b"
      },
      "execution_count": 5,
      "outputs": [
        {
          "output_type": "display_data",
          "data": {
            "text/plain": [
              "<IPython.core.display.HTML object>"
            ],
            "text/html": [
              "\n",
              "            <style>\n",
              "                .geemap-dark {\n",
              "                    --jp-widgets-color: white;\n",
              "                    --jp-widgets-label-color: white;\n",
              "                    --jp-ui-font-color1: white;\n",
              "                    --jp-layout-color2: #454545;\n",
              "                    background-color: #383838;\n",
              "                }\n",
              "                    \n",
              "                .geemap-dark .jupyter-button {\n",
              "                    --jp-layout-color3: #383838;\n",
              "                }\n",
              "                \n",
              "                .geemap-colab {\n",
              "                    background-color: var(--colab-primary-surface-color, white);\n",
              "                }\n",
              "                    \n",
              "                .geemap-colab .jupyter-button {\n",
              "                    --jp-layout-color3: var(--colab-primary-surface-color, white);\n",
              "                }\n",
              "            </style>\n",
              "            "
            ]
          },
          "metadata": {}
        }
      ]
    },
    {
      "cell_type": "code",
      "source": [
        "def get_array(img):\n",
        "  url = img.getDownloadUrl({'format': 'NPY'})\n",
        "  response = requests.get(url)\n",
        "  data = np.load(io.BytesIO(response.content)).astype(np.float32)\n",
        "  return data\n"
      ],
      "metadata": {
        "colab": {
          "base_uri": "https://localhost:8080/",
          "height": 17
        },
        "id": "iuth2oA7Feum",
        "outputId": "6d7f7428-eb04-43d6-e229-355aca1b92ed"
      },
      "execution_count": 6,
      "outputs": [
        {
          "output_type": "display_data",
          "data": {
            "text/plain": [
              "<IPython.core.display.HTML object>"
            ],
            "text/html": [
              "\n",
              "            <style>\n",
              "                .geemap-dark {\n",
              "                    --jp-widgets-color: white;\n",
              "                    --jp-widgets-label-color: white;\n",
              "                    --jp-ui-font-color1: white;\n",
              "                    --jp-layout-color2: #454545;\n",
              "                    background-color: #383838;\n",
              "                }\n",
              "                    \n",
              "                .geemap-dark .jupyter-button {\n",
              "                    --jp-layout-color3: #383838;\n",
              "                }\n",
              "                \n",
              "                .geemap-colab {\n",
              "                    background-color: var(--colab-primary-surface-color, white);\n",
              "                }\n",
              "                    \n",
              "                .geemap-colab .jupyter-button {\n",
              "                    --jp-layout-color3: var(--colab-primary-surface-color, white);\n",
              "                }\n",
              "            </style>\n",
              "            "
            ]
          },
          "metadata": {}
        }
      ]
    },
    {
      "cell_type": "code",
      "source": [
        "def resample_nearest_neighbor(input_array, output_shape):\n",
        "    # Generate input coordinates\n",
        "    input_x, input_y = np.meshgrid(np.arange(input_array.shape[1]), np.arange(input_array.shape[0]))\n",
        "\n",
        "    # Generate output coordinates\n",
        "    output_x, output_y = np.meshgrid(np.linspace(0, input_array.shape[1]-1, output_shape[1]),\n",
        "                                      np.linspace(0, input_array.shape[0]-1, output_shape[0]))\n",
        "\n",
        "    # Reshape input and output coordinates for interpolation\n",
        "    input_coords = np.vstack((input_x.ravel(), input_y.ravel())).T\n",
        "    output_coords = np.vstack((output_x.ravel(), output_y.ravel())).T\n",
        "\n",
        "    # Perform nearest neighbor interpolation\n",
        "    output_array = griddata(input_coords, input_array.ravel(), output_coords, method='nearest')\n",
        "\n",
        "    # Reshape output to desired shape\n",
        "    output_array = output_array.reshape(output_shape)\n",
        "\n",
        "    return output_array"
      ],
      "metadata": {
        "colab": {
          "base_uri": "https://localhost:8080/",
          "height": 17
        },
        "id": "w63YSWVWzyye",
        "outputId": "296ff2a9-4fef-4088-f5ff-edc23d81e0e0"
      },
      "execution_count": 7,
      "outputs": [
        {
          "output_type": "display_data",
          "data": {
            "text/plain": [
              "<IPython.core.display.HTML object>"
            ],
            "text/html": [
              "\n",
              "            <style>\n",
              "                .geemap-dark {\n",
              "                    --jp-widgets-color: white;\n",
              "                    --jp-widgets-label-color: white;\n",
              "                    --jp-ui-font-color1: white;\n",
              "                    --jp-layout-color2: #454545;\n",
              "                    background-color: #383838;\n",
              "                }\n",
              "                    \n",
              "                .geemap-dark .jupyter-button {\n",
              "                    --jp-layout-color3: #383838;\n",
              "                }\n",
              "                \n",
              "                .geemap-colab {\n",
              "                    background-color: var(--colab-primary-surface-color, white);\n",
              "                }\n",
              "                    \n",
              "                .geemap-colab .jupyter-button {\n",
              "                    --jp-layout-color3: var(--colab-primary-surface-color, white);\n",
              "                }\n",
              "            </style>\n",
              "            "
            ]
          },
          "metadata": {}
        }
      ]
    },
    {
      "cell_type": "code",
      "source": [
        "def scale_ndarray(data):\n",
        "    # Initialize the StandardScaler\n",
        "    scaler = StandardScaler()\n",
        "\n",
        "    # Reshape the data to 2D array if it's not already\n",
        "    if len(data.shape) > 2:\n",
        "        data = data.reshape(-1, data.shape[-1])\n",
        "\n",
        "    # Fit and transform the data\n",
        "    scaled_data = scaler.fit_transform(data)\n",
        "\n",
        "    # Reshape the scaled data back to the original shape\n",
        "    scaled_data = scaled_data.reshape(data.shape)\n",
        "\n",
        "    return scaled_data"
      ],
      "metadata": {
        "colab": {
          "base_uri": "https://localhost:8080/",
          "height": 17
        },
        "id": "cBM9lTjh6fuk",
        "outputId": "24f58fee-842f-436b-b5af-cb20e8e4ffce"
      },
      "execution_count": 9,
      "outputs": [
        {
          "output_type": "display_data",
          "data": {
            "text/plain": [
              "<IPython.core.display.HTML object>"
            ],
            "text/html": [
              "\n",
              "            <style>\n",
              "                .geemap-dark {\n",
              "                    --jp-widgets-color: white;\n",
              "                    --jp-widgets-label-color: white;\n",
              "                    --jp-ui-font-color1: white;\n",
              "                    --jp-layout-color2: #454545;\n",
              "                    background-color: #383838;\n",
              "                }\n",
              "                    \n",
              "                .geemap-dark .jupyter-button {\n",
              "                    --jp-layout-color3: #383838;\n",
              "                }\n",
              "                \n",
              "                .geemap-colab {\n",
              "                    background-color: var(--colab-primary-surface-color, white);\n",
              "                }\n",
              "                    \n",
              "                .geemap-colab .jupyter-button {\n",
              "                    --jp-layout-color3: var(--colab-primary-surface-color, white);\n",
              "                }\n",
              "            </style>\n",
              "            "
            ]
          },
          "metadata": {}
        }
      ]
    },
    {
      "cell_type": "code",
      "source": [
        "def one_hot_encode(data):\n",
        "  \"\"\"\n",
        "  Encodes categorical data using one-hot encoding.\n",
        "\n",
        "  Args:\n",
        "    data: A 2D numpy array containing categorical data.\n",
        "\n",
        "  Returns:\n",
        "    A 3D numpy array containing the one-hot encoded data.\n",
        "  \"\"\"\n",
        "\n",
        "  unique_values = np.unique(data)\n",
        "  encoded_data = np.zeros((data.shape[0], data.shape[1], len(unique_values)))\n",
        "\n",
        "  for i in range(data.shape[0]):\n",
        "    for j in range(data.shape[1]):\n",
        "      val = data[i, j]\n",
        "      idx = np.where(unique_values == val)[0][0]\n",
        "      encoded_data[i, j, idx] = 1\n",
        "\n",
        "  return encoded_data"
      ],
      "metadata": {
        "colab": {
          "base_uri": "https://localhost:8080/",
          "height": 17
        },
        "id": "atMUp_W_Quhq",
        "outputId": "dd8c3205-3ecd-4d9c-cc62-af0b8983b1d4"
      },
      "execution_count": 10,
      "outputs": [
        {
          "output_type": "display_data",
          "data": {
            "text/plain": [
              "<IPython.core.display.HTML object>"
            ],
            "text/html": [
              "\n",
              "            <style>\n",
              "                .geemap-dark {\n",
              "                    --jp-widgets-color: white;\n",
              "                    --jp-widgets-label-color: white;\n",
              "                    --jp-ui-font-color1: white;\n",
              "                    --jp-layout-color2: #454545;\n",
              "                    background-color: #383838;\n",
              "                }\n",
              "                    \n",
              "                .geemap-dark .jupyter-button {\n",
              "                    --jp-layout-color3: #383838;\n",
              "                }\n",
              "                \n",
              "                .geemap-colab {\n",
              "                    background-color: var(--colab-primary-surface-color, white);\n",
              "                }\n",
              "                    \n",
              "                .geemap-colab .jupyter-button {\n",
              "                    --jp-layout-color3: var(--colab-primary-surface-color, white);\n",
              "                }\n",
              "            </style>\n",
              "            "
            ]
          },
          "metadata": {}
        }
      ]
    },
    {
      "cell_type": "code",
      "source": [
        "def preprocess_data(siteData):\n",
        "  ls = []\n",
        "  for i in siteData:\n",
        "    if i == 'dem':\n",
        "      ls.append(scale_ndarray(get_array(siteData[i])))\n",
        "    elif i == 'treeCover' or i == 'nonTree' or i == 'gswDistance':\n",
        "      ls.append(siteData[i])\n",
        "    elif i == 'landforms' or i == 'hydro':\n",
        "      ls.append(one_hot_encode(resample_nearest_neighbor(get_array(siteData[i]), (649, 563))))\n",
        "    elif i != 'coor' and i != 'buffer':\n",
        "      ls.append(scale_ndarray(resample_nearest_neighbor(get_array(siteData[i]), (649, 563))))\n",
        "  return ls"
      ],
      "metadata": {
        "colab": {
          "base_uri": "https://localhost:8080/",
          "height": 17
        },
        "id": "2BXpUBurYXLC",
        "outputId": "38d7cc1b-3bd3-412b-db99-b8c9b05a2320"
      },
      "execution_count": 11,
      "outputs": [
        {
          "output_type": "display_data",
          "data": {
            "text/plain": [
              "<IPython.core.display.HTML object>"
            ],
            "text/html": [
              "\n",
              "            <style>\n",
              "                .geemap-dark {\n",
              "                    --jp-widgets-color: white;\n",
              "                    --jp-widgets-label-color: white;\n",
              "                    --jp-ui-font-color1: white;\n",
              "                    --jp-layout-color2: #454545;\n",
              "                    background-color: #383838;\n",
              "                }\n",
              "                    \n",
              "                .geemap-dark .jupyter-button {\n",
              "                    --jp-layout-color3: #383838;\n",
              "                }\n",
              "                \n",
              "                .geemap-colab {\n",
              "                    background-color: var(--colab-primary-surface-color, white);\n",
              "                }\n",
              "                    \n",
              "                .geemap-colab .jupyter-button {\n",
              "                    --jp-layout-color3: var(--colab-primary-surface-color, white);\n",
              "                }\n",
              "            </style>\n",
              "            "
            ]
          },
          "metadata": {}
        }
      ]
    },
    {
      "cell_type": "code",
      "source": [
        "# x = get_site_data(24.9733,32.8707,10000)\n",
        "# y = preprocess_data(x)"
      ],
      "metadata": {
        "colab": {
          "base_uri": "https://localhost:8080/",
          "height": 17
        },
        "id": "Dtv-LyTAHWVl",
        "outputId": "8ac32c39-b58d-44e8-eaca-a89fa473705e"
      },
      "execution_count": 11,
      "outputs": [
        {
          "output_type": "display_data",
          "data": {
            "text/plain": [
              "<IPython.core.display.HTML object>"
            ],
            "text/html": [
              "\n",
              "            <style>\n",
              "                .geemap-dark {\n",
              "                    --jp-widgets-color: white;\n",
              "                    --jp-widgets-label-color: white;\n",
              "                    --jp-ui-font-color1: white;\n",
              "                    --jp-layout-color2: #454545;\n",
              "                    background-color: #383838;\n",
              "                }\n",
              "                    \n",
              "                .geemap-dark .jupyter-button {\n",
              "                    --jp-layout-color3: #383838;\n",
              "                }\n",
              "                \n",
              "                .geemap-colab {\n",
              "                    background-color: var(--colab-primary-surface-color, white);\n",
              "                }\n",
              "                    \n",
              "                .geemap-colab .jupyter-button {\n",
              "                    --jp-layout-color3: var(--colab-primary-surface-color, white);\n",
              "                }\n",
              "            </style>\n",
              "            "
            ]
          },
          "metadata": {}
        }
      ]
    },
    {
      "cell_type": "code",
      "source": [
        "\n",
        "# Get the geometry of Egypt\n",
        "countries = ee.FeatureCollection(\"FAO/GAUL/2015/level0\")\n",
        "egypt = countries.filter(ee.Filter.eq('ADM0_NAME', \"Egypt\"))\n",
        "egypt_geometry = egypt.geometry()\n",
        "\n",
        "random_points = ee.FeatureCollection.randomPoints(\n",
        "    region=egypt_geometry, points=50, seed=0, maxError=1\n",
        ")\n"
      ],
      "metadata": {
        "colab": {
          "base_uri": "https://localhost:8080/",
          "height": 17
        },
        "id": "SeI9XCWXH6tB",
        "outputId": "3334c9d3-7111-42c1-cac7-bbadac1ab1db"
      },
      "execution_count": 12,
      "outputs": [
        {
          "output_type": "display_data",
          "data": {
            "text/plain": [
              "<IPython.core.display.HTML object>"
            ],
            "text/html": [
              "\n",
              "            <style>\n",
              "                .geemap-dark {\n",
              "                    --jp-widgets-color: white;\n",
              "                    --jp-widgets-label-color: white;\n",
              "                    --jp-ui-font-color1: white;\n",
              "                    --jp-layout-color2: #454545;\n",
              "                    background-color: #383838;\n",
              "                }\n",
              "                    \n",
              "                .geemap-dark .jupyter-button {\n",
              "                    --jp-layout-color3: #383838;\n",
              "                }\n",
              "                \n",
              "                .geemap-colab {\n",
              "                    background-color: var(--colab-primary-surface-color, white);\n",
              "                }\n",
              "                    \n",
              "                .geemap-colab .jupyter-button {\n",
              "                    --jp-layout-color3: var(--colab-primary-surface-color, white);\n",
              "                }\n",
              "            </style>\n",
              "            "
            ]
          },
          "metadata": {}
        }
      ]
    },
    {
      "cell_type": "code",
      "source": [
        "sites = pd.read_csv(('/content/drive/My Drive/sites_coords.csv'), header=None)\n",
        "sites.columns = ['ind','name', 'lat', 'lon']\n",
        "sites = sites.drop('ind', axis=1)"
      ],
      "metadata": {
        "colab": {
          "base_uri": "https://localhost:8080/",
          "height": 17
        },
        "id": "PkY-nWx1LZ61",
        "outputId": "73c8a83c-5e1a-4aa3-ff47-3b6d67d63dfb"
      },
      "execution_count": 13,
      "outputs": [
        {
          "output_type": "display_data",
          "data": {
            "text/plain": [
              "<IPython.core.display.HTML object>"
            ],
            "text/html": [
              "\n",
              "            <style>\n",
              "                .geemap-dark {\n",
              "                    --jp-widgets-color: white;\n",
              "                    --jp-widgets-label-color: white;\n",
              "                    --jp-ui-font-color1: white;\n",
              "                    --jp-layout-color2: #454545;\n",
              "                    background-color: #383838;\n",
              "                }\n",
              "                    \n",
              "                .geemap-dark .jupyter-button {\n",
              "                    --jp-layout-color3: #383838;\n",
              "                }\n",
              "                \n",
              "                .geemap-colab {\n",
              "                    background-color: var(--colab-primary-surface-color, white);\n",
              "                }\n",
              "                    \n",
              "                .geemap-colab .jupyter-button {\n",
              "                    --jp-layout-color3: var(--colab-primary-surface-color, white);\n",
              "                }\n",
              "            </style>\n",
              "            "
            ]
          },
          "metadata": {}
        }
      ]
    },
    {
      "cell_type": "code",
      "source": [
        "geo_list = []\n",
        "for ind, i in sites.iterrows():\n",
        "  coords = [dict(i)['lon'], dict(i)['lat']]\n",
        "  point = ee.Geometry.Point(coords).buffer(10000)\n",
        "  geo_list.append(point)\n",
        "\n",
        "sitesB5k = ee.FeatureCollection(geo_list)\n",
        "\n",
        "def randpoints():\n",
        "  points = ee.FeatureCollection.randomPoints(egypt_geometry, 1310, 123)\n",
        "  points = points.geometry()\n",
        "  points = points.difference(sitesB5k)\n",
        "  return points.getInfo()['coordinates']\n",
        "\n",
        "negatives = randpoints()\n",
        "nonSites = pd.DataFrame(negatives)\n",
        "dummy = pd.DataFrame(np.full(1180, 'None Site'))\n",
        "nonSites = pd.concat([dummy, nonSites], axis=1)\n",
        "nonSites.columns = ['name', 'lat', 'lon']"
      ],
      "metadata": {
        "colab": {
          "base_uri": "https://localhost:8080/",
          "height": 17
        },
        "id": "nuPhZ6kGRtdm",
        "outputId": "642bd512-3bed-4213-a1fe-a3be9b5b3f9b"
      },
      "execution_count": 14,
      "outputs": [
        {
          "output_type": "display_data",
          "data": {
            "text/plain": [
              "<IPython.core.display.HTML object>"
            ],
            "text/html": [
              "\n",
              "            <style>\n",
              "                .geemap-dark {\n",
              "                    --jp-widgets-color: white;\n",
              "                    --jp-widgets-label-color: white;\n",
              "                    --jp-ui-font-color1: white;\n",
              "                    --jp-layout-color2: #454545;\n",
              "                    background-color: #383838;\n",
              "                }\n",
              "                    \n",
              "                .geemap-dark .jupyter-button {\n",
              "                    --jp-layout-color3: #383838;\n",
              "                }\n",
              "                \n",
              "                .geemap-colab {\n",
              "                    background-color: var(--colab-primary-surface-color, white);\n",
              "                }\n",
              "                    \n",
              "                .geemap-colab .jupyter-button {\n",
              "                    --jp-layout-color3: var(--colab-primary-surface-color, white);\n",
              "                }\n",
              "            </style>\n",
              "            "
            ]
          },
          "metadata": {}
        }
      ]
    },
    {
      "cell_type": "code",
      "source": [
        "sitesDatals = []\n",
        "nonDatals = []\n",
        "\n",
        "\n",
        "for ind, i in sites.iterrows():\n",
        "  if ind < 500:\n",
        "    sitesDatals.append(get_site_data(list(i)[1], list(i)[2], 10000))\n",
        "  else:\n",
        "    break"
      ],
      "metadata": {
        "colab": {
          "base_uri": "https://localhost:8080/",
          "height": 17
        },
        "id": "mcxqjV8IDX5o",
        "outputId": "bb48cffd-47ae-4bd2-ae9c-611190f04adb"
      },
      "execution_count": 25,
      "outputs": [
        {
          "output_type": "display_data",
          "data": {
            "text/plain": [
              "<IPython.core.display.HTML object>"
            ],
            "text/html": [
              "\n",
              "            <style>\n",
              "                .geemap-dark {\n",
              "                    --jp-widgets-color: white;\n",
              "                    --jp-widgets-label-color: white;\n",
              "                    --jp-ui-font-color1: white;\n",
              "                    --jp-layout-color2: #454545;\n",
              "                    background-color: #383838;\n",
              "                }\n",
              "                    \n",
              "                .geemap-dark .jupyter-button {\n",
              "                    --jp-layout-color3: #383838;\n",
              "                }\n",
              "                \n",
              "                .geemap-colab {\n",
              "                    background-color: var(--colab-primary-surface-color, white);\n",
              "                }\n",
              "                    \n",
              "                .geemap-colab .jupyter-button {\n",
              "                    --jp-layout-color3: var(--colab-primary-surface-color, white);\n",
              "                }\n",
              "            </style>\n",
              "            "
            ]
          },
          "metadata": {}
        }
      ]
    },
    {
      "cell_type": "code",
      "source": [
        "for ind, i in sites.iterrows():\n",
        "  if ind >= 500 and ind < 1000:\n",
        "    sitesDatals.append(get_site_data(list(i)[1], list(i)[2], 10000))\n",
        "  elif ind < 1000:\n",
        "    pass\n",
        "  else:\n",
        "    break"
      ],
      "metadata": {
        "colab": {
          "base_uri": "https://localhost:8080/",
          "height": 17
        },
        "id": "5NC70NoTRlPK",
        "outputId": "dcccd540-1a7c-4953-883e-0807498ee752"
      },
      "execution_count": 34,
      "outputs": [
        {
          "output_type": "display_data",
          "data": {
            "text/plain": [
              "<IPython.core.display.HTML object>"
            ],
            "text/html": [
              "\n",
              "            <style>\n",
              "                .geemap-dark {\n",
              "                    --jp-widgets-color: white;\n",
              "                    --jp-widgets-label-color: white;\n",
              "                    --jp-ui-font-color1: white;\n",
              "                    --jp-layout-color2: #454545;\n",
              "                    background-color: #383838;\n",
              "                }\n",
              "                    \n",
              "                .geemap-dark .jupyter-button {\n",
              "                    --jp-layout-color3: #383838;\n",
              "                }\n",
              "                \n",
              "                .geemap-colab {\n",
              "                    background-color: var(--colab-primary-surface-color, white);\n",
              "                }\n",
              "                    \n",
              "                .geemap-colab .jupyter-button {\n",
              "                    --jp-layout-color3: var(--colab-primary-surface-color, white);\n",
              "                }\n",
              "            </style>\n",
              "            "
            ]
          },
          "metadata": {}
        }
      ]
    },
    {
      "cell_type": "code",
      "source": [
        "for ind, i in sites.iterrows():\n",
        "  if ind >= 1000:\n",
        "    sitesDatals.append(get_site_data(list(i)[1], list(i)[2], 10000))\n",
        "  elif ind < 1180:\n",
        "    pass\n",
        "  else:\n",
        "    break"
      ],
      "metadata": {
        "colab": {
          "base_uri": "https://localhost:8080/",
          "height": 17
        },
        "id": "J7DMbtI_R3t6",
        "outputId": "76174cf3-606a-4fa8-df4e-604c2d2ed84d"
      },
      "execution_count": 40,
      "outputs": [
        {
          "output_type": "display_data",
          "data": {
            "text/plain": [
              "<IPython.core.display.HTML object>"
            ],
            "text/html": [
              "\n",
              "            <style>\n",
              "                .geemap-dark {\n",
              "                    --jp-widgets-color: white;\n",
              "                    --jp-widgets-label-color: white;\n",
              "                    --jp-ui-font-color1: white;\n",
              "                    --jp-layout-color2: #454545;\n",
              "                    background-color: #383838;\n",
              "                }\n",
              "                    \n",
              "                .geemap-dark .jupyter-button {\n",
              "                    --jp-layout-color3: #383838;\n",
              "                }\n",
              "                \n",
              "                .geemap-colab {\n",
              "                    background-color: var(--colab-primary-surface-color, white);\n",
              "                }\n",
              "                    \n",
              "                .geemap-colab .jupyter-button {\n",
              "                    --jp-layout-color3: var(--colab-primary-surface-color, white);\n",
              "                }\n",
              "            </style>\n",
              "            "
            ]
          },
          "metadata": {}
        }
      ]
    },
    {
      "cell_type": "code",
      "source": [
        "for ind, i in nonSites.iterrows():\n",
        "  if ind < 500:\n",
        "    nonDatals.append(get_site_data(list(i)[1], list(i)[2], 10000))\n",
        "  elif ind < 1000:\n",
        "    pass\n",
        "  else:\n",
        "    break"
      ],
      "metadata": {
        "colab": {
          "base_uri": "https://localhost:8080/",
          "height": 17
        },
        "id": "4owZ9FdwMZwf",
        "outputId": "82e57c65-54a6-406b-cece-b160e64f1df9"
      },
      "execution_count": 43,
      "outputs": [
        {
          "output_type": "display_data",
          "data": {
            "text/plain": [
              "<IPython.core.display.HTML object>"
            ],
            "text/html": [
              "\n",
              "            <style>\n",
              "                .geemap-dark {\n",
              "                    --jp-widgets-color: white;\n",
              "                    --jp-widgets-label-color: white;\n",
              "                    --jp-ui-font-color1: white;\n",
              "                    --jp-layout-color2: #454545;\n",
              "                    background-color: #383838;\n",
              "                }\n",
              "                    \n",
              "                .geemap-dark .jupyter-button {\n",
              "                    --jp-layout-color3: #383838;\n",
              "                }\n",
              "                \n",
              "                .geemap-colab {\n",
              "                    background-color: var(--colab-primary-surface-color, white);\n",
              "                }\n",
              "                    \n",
              "                .geemap-colab .jupyter-button {\n",
              "                    --jp-layout-color3: var(--colab-primary-surface-color, white);\n",
              "                }\n",
              "            </style>\n",
              "            "
            ]
          },
          "metadata": {}
        }
      ]
    },
    {
      "cell_type": "code",
      "source": [
        "for ind, i in nonSites.iterrows():\n",
        "  if ind >= 500 and ind < 1000:\n",
        "    nonDatals.append(get_site_data(list(i)[1], list(i)[2], 10000))\n",
        "  elif ind < 1000:\n",
        "    pass\n",
        "  else:\n",
        "    break"
      ],
      "metadata": {
        "colab": {
          "base_uri": "https://localhost:8080/",
          "height": 17
        },
        "id": "HnLOWhabSj34",
        "outputId": "2986650d-170b-4b04-d146-785d7b050868"
      },
      "execution_count": 45,
      "outputs": [
        {
          "output_type": "display_data",
          "data": {
            "text/plain": [
              "<IPython.core.display.HTML object>"
            ],
            "text/html": [
              "\n",
              "            <style>\n",
              "                .geemap-dark {\n",
              "                    --jp-widgets-color: white;\n",
              "                    --jp-widgets-label-color: white;\n",
              "                    --jp-ui-font-color1: white;\n",
              "                    --jp-layout-color2: #454545;\n",
              "                    background-color: #383838;\n",
              "                }\n",
              "                    \n",
              "                .geemap-dark .jupyter-button {\n",
              "                    --jp-layout-color3: #383838;\n",
              "                }\n",
              "                \n",
              "                .geemap-colab {\n",
              "                    background-color: var(--colab-primary-surface-color, white);\n",
              "                }\n",
              "                    \n",
              "                .geemap-colab .jupyter-button {\n",
              "                    --jp-layout-color3: var(--colab-primary-surface-color, white);\n",
              "                }\n",
              "            </style>\n",
              "            "
            ]
          },
          "metadata": {}
        }
      ]
    },
    {
      "cell_type": "code",
      "source": [
        "for ind, i in nonSites.iterrows():\n",
        "  if ind >= 1000:\n",
        "    nonDatals.append(get_site_data(list(i)[1], list(i)[2], 10000))\n",
        "  elif ind < 1180:\n",
        "    pass\n",
        "  else:\n",
        "    break"
      ],
      "metadata": {
        "colab": {
          "base_uri": "https://localhost:8080/",
          "height": 17
        },
        "id": "gjcTKBExSkYo",
        "outputId": "0f74bf0c-ce3f-48d8-eec4-fb641c74b7af"
      },
      "execution_count": 46,
      "outputs": [
        {
          "output_type": "display_data",
          "data": {
            "text/plain": [
              "<IPython.core.display.HTML object>"
            ],
            "text/html": [
              "\n",
              "            <style>\n",
              "                .geemap-dark {\n",
              "                    --jp-widgets-color: white;\n",
              "                    --jp-widgets-label-color: white;\n",
              "                    --jp-ui-font-color1: white;\n",
              "                    --jp-layout-color2: #454545;\n",
              "                    background-color: #383838;\n",
              "                }\n",
              "                    \n",
              "                .geemap-dark .jupyter-button {\n",
              "                    --jp-layout-color3: #383838;\n",
              "                }\n",
              "                \n",
              "                .geemap-colab {\n",
              "                    background-color: var(--colab-primary-surface-color, white);\n",
              "                }\n",
              "                    \n",
              "                .geemap-colab .jupyter-button {\n",
              "                    --jp-layout-color3: var(--colab-primary-surface-color, white);\n",
              "                }\n",
              "            </style>\n",
              "            "
            ]
          },
          "metadata": {}
        }
      ]
    },
    {
      "cell_type": "code",
      "source": [
        "sitesData= []\n",
        "nonSitesData = []"
      ],
      "metadata": {
        "colab": {
          "base_uri": "https://localhost:8080/",
          "height": 17
        },
        "id": "4Dzkiyl3VaJk",
        "outputId": "3d163874-5d4d-4f67-dddc-f0a0ac68b745"
      },
      "execution_count": 19,
      "outputs": [
        {
          "output_type": "display_data",
          "data": {
            "text/plain": [
              "<IPython.core.display.HTML object>"
            ],
            "text/html": [
              "\n",
              "            <style>\n",
              "                .geemap-dark {\n",
              "                    --jp-widgets-color: white;\n",
              "                    --jp-widgets-label-color: white;\n",
              "                    --jp-ui-font-color1: white;\n",
              "                    --jp-layout-color2: #454545;\n",
              "                    background-color: #383838;\n",
              "                }\n",
              "                    \n",
              "                .geemap-dark .jupyter-button {\n",
              "                    --jp-layout-color3: #383838;\n",
              "                }\n",
              "                \n",
              "                .geemap-colab {\n",
              "                    background-color: var(--colab-primary-surface-color, white);\n",
              "                }\n",
              "                    \n",
              "                .geemap-colab .jupyter-button {\n",
              "                    --jp-layout-color3: var(--colab-primary-surface-color, white);\n",
              "                }\n",
              "            </style>\n",
              "            "
            ]
          },
          "metadata": {}
        }
      ]
    },
    {
      "cell_type": "code",
      "source": [
        "counter = [0]\n",
        "for i in range(44):\n",
        "  counter.append((counter[len(counter)-1])+27)"
      ],
      "metadata": {
        "colab": {
          "base_uri": "https://localhost:8080/",
          "height": 17
        },
        "id": "CjcDyYf8XFco",
        "outputId": "ee6ca420-3546-43b0-dccc-c70dcc5ab297"
      },
      "execution_count": 21,
      "outputs": [
        {
          "output_type": "display_data",
          "data": {
            "text/plain": [
              "<IPython.core.display.HTML object>"
            ],
            "text/html": [
              "\n",
              "            <style>\n",
              "                .geemap-dark {\n",
              "                    --jp-widgets-color: white;\n",
              "                    --jp-widgets-label-color: white;\n",
              "                    --jp-ui-font-color1: white;\n",
              "                    --jp-layout-color2: #454545;\n",
              "                    background-color: #383838;\n",
              "                }\n",
              "                    \n",
              "                .geemap-dark .jupyter-button {\n",
              "                    --jp-layout-color3: #383838;\n",
              "                }\n",
              "                \n",
              "                .geemap-colab {\n",
              "                    background-color: var(--colab-primary-surface-color, white);\n",
              "                }\n",
              "                    \n",
              "                .geemap-colab .jupyter-button {\n",
              "                    --jp-layout-color3: var(--colab-primary-surface-color, white);\n",
              "                }\n",
              "            </style>\n",
              "            "
            ]
          },
          "metadata": {}
        }
      ]
    },
    {
      "cell_type": "code",
      "source": [
        "# ind = 0 #load pickled data to continue\n",
        "\n",
        "for i in sitesDatals[counter[ind]: counter[ind+1]]:\n",
        "  try:\n",
        "    sitesData.append(preprocess_data(i))\n",
        "    print(f\"Site Appended @ {counter[ind]} ~ {counter[ind+1]}\")\n",
        "  except IndexError:\n",
        "    print(counter[ind])\n",
        "\n",
        "ind += 1\n",
        "print(counter[ind], len(sitesData))"
      ],
      "metadata": {
        "colab": {
          "base_uri": "https://localhost:8080/",
          "height": 521
        },
        "id": "_ZQqgyRZZAQV",
        "outputId": "050688aa-254c-4336-a893-747b0675f88f"
      },
      "execution_count": 40,
      "outputs": [
        {
          "output_type": "display_data",
          "data": {
            "text/plain": [
              "<IPython.core.display.HTML object>"
            ],
            "text/html": [
              "\n",
              "            <style>\n",
              "                .geemap-dark {\n",
              "                    --jp-widgets-color: white;\n",
              "                    --jp-widgets-label-color: white;\n",
              "                    --jp-ui-font-color1: white;\n",
              "                    --jp-layout-color2: #454545;\n",
              "                    background-color: #383838;\n",
              "                }\n",
              "                    \n",
              "                .geemap-dark .jupyter-button {\n",
              "                    --jp-layout-color3: #383838;\n",
              "                }\n",
              "                \n",
              "                .geemap-colab {\n",
              "                    background-color: var(--colab-primary-surface-color, white);\n",
              "                }\n",
              "                    \n",
              "                .geemap-colab .jupyter-button {\n",
              "                    --jp-layout-color3: var(--colab-primary-surface-color, white);\n",
              "                }\n",
              "            </style>\n",
              "            "
            ]
          },
          "metadata": {}
        },
        {
          "output_type": "stream",
          "name": "stdout",
          "text": [
            "Site Appended @ 81 ~ 108\n",
            "Site Appended @ 81 ~ 108\n",
            "Site Appended @ 81 ~ 108\n",
            "Site Appended @ 81 ~ 108\n",
            "Site Appended @ 81 ~ 108\n",
            "Site Appended @ 81 ~ 108\n",
            "Site Appended @ 81 ~ 108\n",
            "Site Appended @ 81 ~ 108\n",
            "Site Appended @ 81 ~ 108\n",
            "Site Appended @ 81 ~ 108\n",
            "Site Appended @ 81 ~ 108\n",
            "Site Appended @ 81 ~ 108\n",
            "Site Appended @ 81 ~ 108\n",
            "Site Appended @ 81 ~ 108\n",
            "Site Appended @ 81 ~ 108\n",
            "Site Appended @ 81 ~ 108\n",
            "Site Appended @ 81 ~ 108\n",
            "Site Appended @ 81 ~ 108\n",
            "Site Appended @ 81 ~ 108\n",
            "Site Appended @ 81 ~ 108\n",
            "Site Appended @ 81 ~ 108\n",
            "Site Appended @ 81 ~ 108\n",
            "Site Appended @ 81 ~ 108\n",
            "Site Appended @ 81 ~ 108\n",
            "Site Appended @ 81 ~ 108\n",
            "Site Appended @ 81 ~ 108\n",
            "Site Appended @ 81 ~ 108\n",
            "108 108\n"
          ]
        }
      ]
    },
    {
      "cell_type": "code",
      "source": [
        "print(counter[ind], len(sitesData))"
      ],
      "metadata": {
        "colab": {
          "base_uri": "https://localhost:8080/",
          "height": 35
        },
        "id": "ixIU5cOYcMwT",
        "outputId": "7d540e2d-5ac7-4416-d04c-04018b61c817"
      },
      "execution_count": 38,
      "outputs": [
        {
          "output_type": "display_data",
          "data": {
            "text/plain": [
              "<IPython.core.display.HTML object>"
            ],
            "text/html": [
              "\n",
              "            <style>\n",
              "                .geemap-dark {\n",
              "                    --jp-widgets-color: white;\n",
              "                    --jp-widgets-label-color: white;\n",
              "                    --jp-ui-font-color1: white;\n",
              "                    --jp-layout-color2: #454545;\n",
              "                    background-color: #383838;\n",
              "                }\n",
              "                    \n",
              "                .geemap-dark .jupyter-button {\n",
              "                    --jp-layout-color3: #383838;\n",
              "                }\n",
              "                \n",
              "                .geemap-colab {\n",
              "                    background-color: var(--colab-primary-surface-color, white);\n",
              "                }\n",
              "                    \n",
              "                .geemap-colab .jupyter-button {\n",
              "                    --jp-layout-color3: var(--colab-primary-surface-color, white);\n",
              "                }\n",
              "            </style>\n",
              "            "
            ]
          },
          "metadata": {}
        },
        {
          "output_type": "stream",
          "name": "stdout",
          "text": [
            "54 54\n"
          ]
        }
      ]
    },
    {
      "cell_type": "code",
      "source": [
        "for i in sitesDatals[:ind]:\n",
        "  sitesData.append(preprocess_data(i))"
      ],
      "metadata": {
        "id": "Hh8PFbWkMm60"
      },
      "execution_count": null,
      "outputs": []
    },
    {
      "cell_type": "code",
      "source": [
        "for i in nonDatals:\n",
        "  nonSitesData.append(preprocess_data(i))"
      ],
      "metadata": {
        "id": "owjImbtYM0Rg"
      },
      "execution_count": null,
      "outputs": []
    },
    {
      "cell_type": "code",
      "source": [
        "print('positive example size: ',(sys.getsizeof(sitesDatals) / (1024 * 1024)),\n",
        "      'Mgbs \\n\\n','negative exampls size: ',(sys.getsizeof(nonDatals) / (1024 * 1024)), 'Mgbs')"
      ],
      "metadata": {
        "colab": {
          "base_uri": "https://localhost:8080/",
          "height": 71
        },
        "id": "sHi3vTMp8zDr",
        "outputId": "051676f6-8e41-4a19-b3b4-d30f89b65e53"
      },
      "execution_count": 18,
      "outputs": [
        {
          "output_type": "display_data",
          "data": {
            "text/plain": [
              "<IPython.core.display.HTML object>"
            ],
            "text/html": [
              "\n",
              "            <style>\n",
              "                .geemap-dark {\n",
              "                    --jp-widgets-color: white;\n",
              "                    --jp-widgets-label-color: white;\n",
              "                    --jp-ui-font-color1: white;\n",
              "                    --jp-layout-color2: #454545;\n",
              "                    background-color: #383838;\n",
              "                }\n",
              "                    \n",
              "                .geemap-dark .jupyter-button {\n",
              "                    --jp-layout-color3: #383838;\n",
              "                }\n",
              "                \n",
              "                .geemap-colab {\n",
              "                    background-color: var(--colab-primary-surface-color, white);\n",
              "                }\n",
              "                    \n",
              "                .geemap-colab .jupyter-button {\n",
              "                    --jp-layout-color3: var(--colab-primary-surface-color, white);\n",
              "                }\n",
              "            </style>\n",
              "            "
            ]
          },
          "metadata": {}
        },
        {
          "output_type": "stream",
          "name": "stdout",
          "text": [
            "positive example size:  0.00905609130859375 Mgbs \n",
            "\n",
            " negative exampls size:  0.00905609130859375 Mgbs\n"
          ]
        }
      ]
    },
    {
      "cell_type": "code",
      "source": [
        "# # prompt: Use pickle to save sitesDatals and nonDatals to one drive\n",
        "\n",
        "# import pickle\n",
        "\n",
        "with open('/content/drive/My Drive/sitesData.pkl', 'wb') as f:\n",
        "  pickle.dump(sitesData, f)\n",
        "\n",
        "with open('/content/drive/My Drive/counter.pkl', 'wb') as f:\n",
        "  pickle.dump(counter, f)\n",
        "\n",
        "with open('/content/drive/My Drive/ind.pkl', 'wb') as f:\n",
        "  pickle.dump(ind, f)\n"
      ],
      "metadata": {
        "colab": {
          "base_uri": "https://localhost:8080/",
          "height": 217
        },
        "id": "Of5b1EqmwTCp",
        "outputId": "db4816e9-e174-4fc3-d68b-a5b0607191e7"
      },
      "execution_count": 41,
      "outputs": [
        {
          "output_type": "display_data",
          "data": {
            "text/plain": [
              "<IPython.core.display.HTML object>"
            ],
            "text/html": [
              "\n",
              "            <style>\n",
              "                .geemap-dark {\n",
              "                    --jp-widgets-color: white;\n",
              "                    --jp-widgets-label-color: white;\n",
              "                    --jp-ui-font-color1: white;\n",
              "                    --jp-layout-color2: #454545;\n",
              "                    background-color: #383838;\n",
              "                }\n",
              "                    \n",
              "                .geemap-dark .jupyter-button {\n",
              "                    --jp-layout-color3: #383838;\n",
              "                }\n",
              "                \n",
              "                .geemap-colab {\n",
              "                    background-color: var(--colab-primary-surface-color, white);\n",
              "                }\n",
              "                    \n",
              "                .geemap-colab .jupyter-button {\n",
              "                    --jp-layout-color3: var(--colab-primary-surface-color, white);\n",
              "                }\n",
              "            </style>\n",
              "            "
            ]
          },
          "metadata": {}
        },
        {
          "output_type": "error",
          "ename": "KeyboardInterrupt",
          "evalue": "",
          "traceback": [
            "\u001b[0;31m---------------------------------------------------------------------------\u001b[0m",
            "\u001b[0;31mKeyboardInterrupt\u001b[0m                         Traceback (most recent call last)",
            "\u001b[0;32m<ipython-input-41-668f607514fb>\u001b[0m in \u001b[0;36m<cell line: 5>\u001b[0;34m()\u001b[0m\n\u001b[1;32m      4\u001b[0m \u001b[0;34m\u001b[0m\u001b[0m\n\u001b[1;32m      5\u001b[0m \u001b[0;32mwith\u001b[0m \u001b[0mopen\u001b[0m\u001b[0;34m(\u001b[0m\u001b[0;34m'/content/drive/My Drive/sitesData.pkl'\u001b[0m\u001b[0;34m,\u001b[0m \u001b[0;34m'wb'\u001b[0m\u001b[0;34m)\u001b[0m \u001b[0;32mas\u001b[0m \u001b[0mf\u001b[0m\u001b[0;34m:\u001b[0m\u001b[0;34m\u001b[0m\u001b[0;34m\u001b[0m\u001b[0m\n\u001b[0;32m----> 6\u001b[0;31m   \u001b[0mpickle\u001b[0m\u001b[0;34m.\u001b[0m\u001b[0mdump\u001b[0m\u001b[0;34m(\u001b[0m\u001b[0msitesData\u001b[0m\u001b[0;34m,\u001b[0m \u001b[0mf\u001b[0m\u001b[0;34m)\u001b[0m\u001b[0;34m\u001b[0m\u001b[0;34m\u001b[0m\u001b[0m\n\u001b[0m\u001b[1;32m      7\u001b[0m \u001b[0;34m\u001b[0m\u001b[0m\n\u001b[1;32m      8\u001b[0m \u001b[0;32mwith\u001b[0m \u001b[0mopen\u001b[0m\u001b[0;34m(\u001b[0m\u001b[0;34m'/content/drive/My Drive/counter.pkl'\u001b[0m\u001b[0;34m,\u001b[0m \u001b[0;34m'wb'\u001b[0m\u001b[0;34m)\u001b[0m \u001b[0;32mas\u001b[0m \u001b[0mf\u001b[0m\u001b[0;34m:\u001b[0m\u001b[0;34m\u001b[0m\u001b[0;34m\u001b[0m\u001b[0m\n",
            "\u001b[0;31mKeyboardInterrupt\u001b[0m: "
          ]
        }
      ]
    },
    {
      "cell_type": "code",
      "source": [
        "# # prompt: Retrieve the two variables pickled in the last cell\n",
        "\n",
        "# import pickle\n",
        "\n",
        "# with open('/content/drive/My Drive/sites_data.pkl', 'rb') as f:\n",
        "#   sitesDatals = pickle.load(f)\n",
        "\n",
        "# with open('/content/drive/My Drive/non_sites_data.pkl', 'rb') as f:\n",
        "#   nonDatals = pickle.load(f)\n"
      ],
      "metadata": {
        "colab": {
          "base_uri": "https://localhost:8080/",
          "height": 17
        },
        "id": "0w8ow0LJy6vX",
        "outputId": "72961e98-6669-4ca9-dddc-292c0ee1fa6d"
      },
      "execution_count": 13,
      "outputs": [
        {
          "output_type": "display_data",
          "data": {
            "text/plain": [
              "<IPython.core.display.HTML object>"
            ],
            "text/html": [
              "\n",
              "            <style>\n",
              "                .geemap-dark {\n",
              "                    --jp-widgets-color: white;\n",
              "                    --jp-widgets-label-color: white;\n",
              "                    --jp-ui-font-color1: white;\n",
              "                    --jp-layout-color2: #454545;\n",
              "                    background-color: #383838;\n",
              "                }\n",
              "                    \n",
              "                .geemap-dark .jupyter-button {\n",
              "                    --jp-layout-color3: #383838;\n",
              "                }\n",
              "                \n",
              "                .geemap-colab {\n",
              "                    background-color: var(--colab-primary-surface-color, white);\n",
              "                }\n",
              "                    \n",
              "                .geemap-colab .jupyter-button {\n",
              "                    --jp-layout-color3: var(--colab-primary-surface-color, white);\n",
              "                }\n",
              "            </style>\n",
              "            "
            ]
          },
          "metadata": {}
        }
      ]
    },
    {
      "cell_type": "markdown",
      "source": [
        "## next steps:\n",
        "  4.   connect one drive\n",
        "  5.   collect data for sites\n",
        "  \n",
        "\n"
      ],
      "metadata": {
        "id": "_yCuMzEjM6pd"
      }
    }
  ]
}